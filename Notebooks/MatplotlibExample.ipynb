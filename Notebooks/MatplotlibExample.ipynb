{
 "cells": [
  {
   "cell_type": "markdown",
   "metadata": {},
   "source": [
    "Initialization"
   ]
  },
  {
   "cell_type": "code",
   "execution_count": 16,
   "metadata": {},
   "outputs": [
    {
     "name": "stdout",
     "output_type": "stream",
     "text": [
      "IPython console for SymPy 0.7.6.1 (Python 3.5.0-64-bit) (ground types: python)\n\nThese commands were executed:\n>>> from __future__ import division\n>>> from sympy import *\n>>> x, y, z, t = symbols('x y z t')\n>>> k, m, n = symbols('k m n', integer=True)\n>>> f, g, h = symbols('f g h', cls=Function)\n>>> init_printing()\n\nDocumentation can be found at http://www.sympy.org\n"
     ]
    }
   ],
   "source": [
    "from sympy import *\n",
    "\n",
    "init_session()\n",
    "\n",
    "a, b, c = symbols(\"a b c\")\n",
    "A, B, C = symbols(\"A B C\")"
   ]
  },
  {
   "cell_type": "markdown",
   "metadata": {},
   "source": [
    "Variables"
   ]
  },
  {
   "cell_type": "code",
   "execution_count": 20,
   "metadata": {},
   "outputs": [
    {
     "data": {
      "text/latex": [
       "$$a^{2} = b^{2} - 2 b c \\cos{\\left (\\frac{\\pi A}{180} \\right )} + c^{2}$$"
      ]
     },
     "text": [
      " 2    2            ⎛π⋅A⎞    2\na  = b  - 2⋅b⋅c⋅cos⎜───⎟ + c \n                   ⎝180⎠     "
     ],
     "metadata": {}
    }
   ],
   "source": [
    "Eq(a ** 2, b**2 + c**2 - (2 * b * c * cos(A * (pi / 180))))"
   ]
  },
  {
   "cell_type": "code",
   "execution_count": 13,
   "metadata": {},
   "outputs": [
    {
     "data": {
      "text/latex": [
       "$$43.570877109609$$"
      ]
     },
     "text": [
      "43.5708771096090"
     ],
     "metadata": {}
    }
   ],
   "source": [
    "solve((31**2 + 15**2 - (2 * 31 * 15 * cos(140 * (pi / 180))) - x**2), x)[1].evalf()"
   ]
  },
  {
   "cell_type": "code",
   "execution_count": null,
   "metadata": {},
   "outputs": [],
   "source": [
    ""
   ]
  }
 ],
 "metadata": {},
 "nbformat": 4,
 "nbformat_minor": 0
}