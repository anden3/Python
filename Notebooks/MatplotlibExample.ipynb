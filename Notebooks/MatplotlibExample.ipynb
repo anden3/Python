{
 "cells": [
  {
   "cell_type": "code",
   "execution_count": 3,
   "metadata": {},
   "outputs": [],
   "source": [
    "import tkinter\n",
    "import tkinter.simpledialog as simpledialog\n",
    "\n",
    "root = tkinter.Tk()\n",
    "root.withdraw()\n",
    "text = simpledialog.askstring(\"Title window\", \"Write text: \")\n",
    "print(text)\n",
    "root.mainloop()\n",
    "root.destroy()\n",
    "\n",
    "print(text)"
   ]
  },
  {
   "cell_type": "code",
   "execution_count": null,
   "metadata": {},
   "outputs": [],
   "source": [
    "print(text)"
   ]
  }
 ],
 "metadata": {},
 "nbformat": 4,
 "nbformat_minor": 0
}